{
 "cells": [
  {
   "cell_type": "code",
   "execution_count": 1,
   "metadata": {
    "collapsed": true
   },
   "outputs": [],
   "source": [
    "from twitterscraper import query_tweets\n",
    "from datetime import date\n",
    "\n",
    "tweets = query_tweets(\"geocode:31.791702,-7.092620,500km\",\n",
    "                      limit=500000,\n",
    "                      begindate = date(2019, 9, 16), \n",
    "                      enddate = date(2019, 11, 15))\n",
    "twwets_string = \"\"\n",
    "\n",
    "for tweet in tweets:\n",
    "    twwets_string += tweet.text + \"\\n\\n\"\n",
    "\n",
    "f = open(\"out.txt\",\"w\",encoding=\"utf-8\")\n",
    "f.write(twwets_string)\n",
    "f.close()"
   ]
  },
  {
   "cell_type": "code",
   "execution_count": 2,
   "metadata": {
    "collapsed": true
   },
   "outputs": [],
   "source": [
    "import re\n",
    "\n",
    "f = open(\"out.txt\",\"r\",encoding=\"utf-8\")\n",
    "str = f.read()\n",
    "f.close()\n",
    "\n",
    "\n",
    "re.sub(r\"(\\n ){2,}\",\"\\n\\n\",str)\n",
    "str_sub = re.sub(r\"\\n{2,}\",\"\\n   /\\n\",str)\n",
    "\n",
    "\n",
    "f = open(\"data.txt\",\"w\",encoding=\"utf-8\")\n",
    "f.write(str_sub)\n",
    "f.close()"
   ]
  }
 ],
 "metadata": {
  "kernelspec": {
   "display_name": "Python 3",
   "language": "python",
   "name": "python3"
  },
  "language_info": {
   "codemirror_mode": {
    "name": "ipython",
    "version": 3
   },
   "file_extension": ".py",
   "mimetype": "text/x-python",
   "name": "python",
   "nbconvert_exporter": "python",
   "pygments_lexer": "ipython3",
   "version": "3.6.2"
  }
 },
 "nbformat": 4,
 "nbformat_minor": 2
}
